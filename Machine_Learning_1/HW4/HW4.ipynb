{
 "cells": [
  {
   "cell_type": "code",
   "execution_count": 18,
   "id": "d82cced7",
   "metadata": {},
   "outputs": [],
   "source": [
    "import pandas as pd\n",
    "import numpy as np\n",
    "import matplotlib.pyplot as plt"
   ]
  },
  {
   "cell_type": "markdown",
   "id": "fd098701",
   "metadata": {},
   "source": [
    "# Ex 1:"
   ]
  },
  {
   "cell_type": "code",
   "execution_count": 25,
   "id": "1abb008c",
   "metadata": {
    "scrolled": true
   },
   "outputs": [
    {
     "data": {
      "text/plain": [
       "array([[  30.    , -100.    ],\n",
       "       [  32.4138, -190.725 ],\n",
       "       [  34.8276, -269.798 ],\n",
       "       [  37.2414, -337.218 ],\n",
       "       [  39.6552, -392.985 ],\n",
       "       [  42.069 , -437.099 ],\n",
       "       [  44.4828, -469.56  ],\n",
       "       [  46.8966, -490.369 ],\n",
       "       [  49.3103, -499.524 ],\n",
       "       [  51.7241, -497.027 ],\n",
       "       [  54.1379, -482.878 ],\n",
       "       [  56.5517, -457.075 ],\n",
       "       [  58.9655, -419.62  ],\n",
       "       [  61.3793, -370.511 ],\n",
       "       [  63.7931, -309.75  ],\n",
       "       [  66.2069, -237.337 ],\n",
       "       [  68.6207, -153.27  ],\n",
       "       [  71.0345,  -57.5505],\n",
       "       [  73.4483,   49.8216],\n",
       "       [  75.8621,  168.847 ],\n",
       "       [  78.2759,  299.524 ],\n",
       "       [  80.6897,  441.855 ],\n",
       "       [  83.1034,  595.838 ],\n",
       "       [  85.5172,  761.474 ],\n",
       "       [  87.931 ,  938.763 ],\n",
       "       [  90.3448, 1127.71  ],\n",
       "       [  92.7586, 1328.3   ],\n",
       "       [  95.1724, 1540.55  ],\n",
       "       [  97.5862, 1764.45  ],\n",
       "       [ 100.    , 2000.    ]])"
      ]
     },
     "execution_count": 25,
     "metadata": {},
     "output_type": "execute_result"
    }
   ],
   "source": [
    "data = pd.read_csv('data_square.csv').values\n",
    "data"
   ]
  },
  {
   "cell_type": "code",
   "execution_count": 43,
   "id": "25ca2a85",
   "metadata": {},
   "outputs": [],
   "source": [
    "N = data.shape[0]\n",
    "x = data[:, 0].reshape(-1, 1)\n",
    "y = data[:, 1].reshape(-1, 1)"
   ]
  },
  {
   "cell_type": "code",
   "execution_count": 44,
   "id": "8383931d",
   "metadata": {
    "scrolled": true
   },
   "outputs": [
    {
     "data": {
      "image/png": "[encoded data removed]",
      "text/plain": [
       "<Figure size 432x288 with 1 Axes>"
      ]
     },
     "metadata": {
      "needs_background": "light"
     },
     "output_type": "display_data"
    }
   ],
   "source": [
    "plt.scatter(x, y)\n",
    "plt.xlabel('Diện tích')\n",
    "plt.ylabel('Giá nhà')\n",
    "\n",
    "x = np.hstack((np.ones((N, 1)), x))\n",
    "\n",
    "w = np.array([0.,1.]).reshape(-1,1)\n",
    "plt.plot(x,y,'green')\n",
    "\n",
    "plt.show()"
   ]
  },
  {
   "cell_type": "markdown",
   "id": "d5f19d41",
   "metadata": {},
   "source": [
    "# Ex 2:"
   ]
  },
  {
   "cell_type": "code",
   "execution_count": 48,
   "id": "d05db638",
   "metadata": {},
   "outputs": [
    {
     "ename": "IndexError",
     "evalue": "list index out of range",
     "output_type": "error",
     "traceback": [
      "\u001b[1;31m---------------------------------------------------------------------------\u001b[0m",
      "\u001b[1;31mIndexError\u001b[0m                                Traceback (most recent call last)",
      "\u001b[1;32m<ipython-input-48-40e8eb91f90f>\u001b[0m in \u001b[0;36m<module>\u001b[1;34m\u001b[0m\n\u001b[0;32m      4\u001b[0m \u001b[0mtrY\u001b[0m \u001b[1;33m=\u001b[0m \u001b[1;36m0\u001b[0m\u001b[1;33m\u001b[0m\u001b[1;33m\u001b[0m\u001b[0m\n\u001b[0;32m      5\u001b[0m \u001b[1;32mfor\u001b[0m \u001b[0mi\u001b[0m \u001b[1;32min\u001b[0m \u001b[0mrange\u001b[0m\u001b[1;33m(\u001b[0m\u001b[0mnum_coeffs\u001b[0m\u001b[1;33m)\u001b[0m\u001b[1;33m:\u001b[0m\u001b[1;33m\u001b[0m\u001b[1;33m\u001b[0m\u001b[0m\n\u001b[1;32m----> 6\u001b[1;33m     \u001b[0mtrY\u001b[0m \u001b[1;33m+=\u001b[0m \u001b[0mtrY_coeffs\u001b[0m\u001b[1;33m[\u001b[0m\u001b[0mi\u001b[0m\u001b[1;33m]\u001b[0m \u001b[1;33m*\u001b[0m \u001b[0mnp\u001b[0m\u001b[1;33m.\u001b[0m\u001b[0mpower\u001b[0m\u001b[1;33m(\u001b[0m\u001b[0mtrX\u001b[0m\u001b[1;33m,\u001b[0m\u001b[0mi\u001b[0m\u001b[1;33m)\u001b[0m\u001b[1;33m\u001b[0m\u001b[1;33m\u001b[0m\u001b[0m\n\u001b[0m\u001b[0;32m      7\u001b[0m \u001b[1;33m\u001b[0m\u001b[0m\n\u001b[0;32m      8\u001b[0m \u001b[0mtrY\u001b[0m \u001b[1;33m+=\u001b[0m \u001b[0mnp\u001b[0m\u001b[1;33m.\u001b[0m\u001b[0mrandom\u001b[0m\u001b[1;33m.\u001b[0m\u001b[0mrandn\u001b[0m\u001b[1;33m(\u001b[0m\u001b[1;33m*\u001b[0m\u001b[0mtrX\u001b[0m\u001b[1;33m.\u001b[0m\u001b[0mshape\u001b[0m\u001b[1;33m)\u001b[0m\u001b[1;33m*\u001b[0m\u001b[1;36m1.5\u001b[0m\u001b[1;33m\u001b[0m\u001b[1;33m\u001b[0m\u001b[0m\n",
      "\u001b[1;31mIndexError\u001b[0m: list index out of range"
     ]
    }
   ],
   "source": [
    "trX = np.linspace(0,1,101)\n",
    "num_coeffs = 9\n",
    "trY_coeffs = [0,1,3,6,9]\n",
    "trY = 0\n",
    "for i in range(num_coeffs):\n",
    "    trY += trY_coeffs[i] * np.power(trX,i)\n",
    "\n",
    "trY += np.random.randn(*trX.shape)*1.5\n",
    "plt.scatter(trX,trY)\n",
    "plt.show()"
   ]
  },
  {
   "cell_type": "code",
   "execution_count": null,
   "id": "32e3016a",
   "metadata": {},
   "outputs": [],
   "source": []
  }
 ],
 "metadata": {
  "kernelspec": {
   "display_name": "Python 3",
   "language": "python",
   "name": "python3"
  },
  "language_info": {
   "codemirror_mode": {
    "name": "ipython",
    "version": 3
   },
   "file_extension": ".py",
   "mimetype": "text/x-python",
   "name": "python",
   "nbconvert_exporter": "python",
   "pygments_lexer": "ipython3",
   "version": "3.8.8"
  }
 },
 "nbformat": 4,
 "nbformat_minor": 5
}
